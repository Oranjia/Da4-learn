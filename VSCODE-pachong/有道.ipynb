{
 "cells": [
  {
   "cell_type": "code",
   "execution_count": null,
   "metadata": {},
   "outputs": [],
   "source": [
    "\"\"\"\n",
    "js里面 (new Date).getTime()\n",
    "time.time()\n",
    "\"\"\"\n",
    "\n",
    "import requests\n",
    "import time\n",
    "import random\n",
    "from hashlib import md5\n",
    "\n",
    "class YdSpider:\n",
    "    def __init__(self):\n",
    "        \"PostURL是浏览器F12抓到的POST的地址\"\n",
    "        self.post_url='https://fanyi.youdao.com/translate_o?smartresult=dict&smartresult=rule'\n",
    "        self.headers={\n",
    "            \"Accept\": \"application/json, text/javascript, */*; q=0.01\",\n",
    "            \"Accept-Encoding\": \"gzip, deflate, br\",\n",
    "            \"Accept-Language\": \"zh-CN,zh;q=0.9\",\n",
    "            \"Connection\": \"keep-alive\",\n",
    "            \"Content-Length\": \"267\",\n",
    "            \"Content-Type\": \"application/x-www-form-urlencoded; charset=UTF-8\",\n",
    "            #重要：验证身份的\n",
    "            \"Cookie\": \"OUTFOX_SEARCH_USER_ID=-771512233@10.108.162.139; OUTFOX_SEARCH_USER_ID_NCOO=838778845.4000149; UM_distinctid=17e955644d82a5-0999ca0126a44f-f791b31-144000-17e955644d9184; _ga=GA1.2.667900160.1645926291; P_INFO=null; fanyi-ad-id=305566; fanyi-ad-closed=0; JSESSIONID=aaaqlOhYI3frL-x3UO7ay; ___rl__test__cookies=1650268051778\",\n",
    "            \"Host\": \"fanyi.youdao.com\",\n",
    "            \"Origin\": \"https://fanyi.youdao.com\",\n",
    "            #重要  从哪个页面跳转过来的\n",
    "            \"Referer\": \"https://fanyi.youdao.com/\",\n",
    "            \"sec-ch-ua-mobile\": \"?0\",\n",
    "            \"sec-ch-ua-platform\": \"Windows\",\n",
    "            \"Sec-Fetch-Dest\": \"empty\",\n",
    "            \"Sec-Fetch-Mode\": \"cors\",\n",
    "            \"Sec-Fetch-Site\": \"same-origin\",\n",
    "            #重要\n",
    "            \"User-Agent\": \"Mozilla/5.0 (Windows NT 10.0; Win64; x64) AppleWebKit/537.36 (KHTML, like Gecko) Chrome/100.0.4896.127 Safari/537.36\",\n",
    "            \"X-Requested-With\": \"XMLHttpRequest\"\n",
    "        }\n",
    "\n",
    "    def md5_string(self,string):\n",
    "        \"\"\"对一个字符串进行md5加密\"\"\"\n",
    "        s=md5()\n",
    "        s.update(string.encode())\n",
    "        return s.hexdigest()\n",
    "    \n",
    "    def get_ts_salt_sigh(self,word):\n",
    "        \"\"\"获取这些数据\"\"\"\n",
    "        ts=str(int(time.time()*1000))\n",
    "        salt=ts+str(random.randint(0,9))\n",
    "        string=\"fanyideskweb\" + word + salt + \"Ygy_4c=r#e#4EX^NUGUc5\"\n",
    "        sigh=self.md5_string(string)\n",
    "        return ts,salt,sigh\n",
    "    \n",
    "    def attack_yd(self,word):\n",
    "        \"\"\"获取ts,salt,sigh\"\"\"\n",
    "        ts,salt,sigh=self.get_ts_salt_sigh(word)\n",
    "        data={\n",
    "            \"i\": word,\n",
    "            \"from\": \"AUTO\",\n",
    "            \"to\": \"AUTO\",\n",
    "            \"smartresult\": \"dict\",\n",
    "            \"client\": \"fanyideskweb\",\n",
    "            \"salt\": salt,\n",
    "            \"sign\": sigh,\n",
    "            \"lts\": ts,\n",
    "            \"bv\": \"ac3968199d18b7367b2479d1f4938ac2\",\n",
    "            \"doctype\": \"json\",\n",
    "            \"version\": \"2.1\",\n",
    "            \"keyfrom\": \"fanyi.web\",\n",
    "            \"action\": \"FY_BY_REALTlME\"\n",
    "        }\n",
    "        #把json格式的字符串，转换成json\n",
    "        html=requests.post(url=self.post_url,data=data,headers=self.headers).json()\n",
    "        return html[\"translateResult\"][0][0][\"tgt\"]\n",
    "    \n",
    "    def run (self):\n",
    "        word=input(\"请输入单词\")\n",
    "        result=self.attack_yd(word)\n",
    "        print(\"偷摸请求一下，结果是：\"+result)\n",
    "    \n",
    "if __name__ == \"__main__\":\n",
    "    spider=YdSpider()\n",
    "    spider.run()\n"
   ]
  },
  {
   "cell_type": "code",
   "execution_count": 3,
   "metadata": {},
   "outputs": [
    {
     "data": {
      "text/plain": [
       "'%E7%A7%91%E5%B9%BB'"
      ]
     },
     "execution_count": 3,
     "metadata": {},
     "output_type": "execute_result"
    }
   ],
   "source": [
    "from hashlib import md5\n",
    "from urllib import parse\n",
    "\n",
    "str='科幻'\n",
    "params=parse.quote(str)\n",
    "params\n",
    "    "
   ]
  }
 ],
 "metadata": {
  "interpreter": {
   "hash": "cc5f70855ac006f3de45a3cc3b9e7d8d53845e50458809cb162b0174266dec97"
  },
  "kernelspec": {
   "display_name": "Python 3.7.3 ('base')",
   "language": "python",
   "name": "python3"
  },
  "language_info": {
   "codemirror_mode": {
    "name": "ipython",
    "version": 3
   },
   "file_extension": ".py",
   "mimetype": "text/x-python",
   "name": "python",
   "nbconvert_exporter": "python",
   "pygments_lexer": "ipython3",
   "version": "3.7.3"
  },
  "orig_nbformat": 4
 },
 "nbformat": 4,
 "nbformat_minor": 2
}
