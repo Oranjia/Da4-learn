{
 "cells": [
  {
   "cell_type": "code",
   "execution_count": null,
   "metadata": {},
   "outputs": [],
   "source": [
    "import requests\n",
    "s=requests.session()\n",
    "#输入错误密码，看响应地址和头\n",
    "#然后要把真实的地址放上去\n",
    "\n",
    "s.post(url=post_url,headers=headers,data=form_data).text\n",
    "\n",
    "html=s.get(url=get_url,headers=headers).text"
   ]
  }
 ],
 "metadata": {
  "language_info": {
   "name": "python"
  },
  "orig_nbformat": 4
 },
 "nbformat": 4,
 "nbformat_minor": 2
}
