{
 "cells": [
  {
   "cell_type": "code",
   "execution_count": 2,
   "metadata": {},
   "outputs": [],
   "source": [
    "from selenium import webdriver\n",
    "from selenium.webdriver import ActionChains\n",
    "\n",
    "driver=webdriver.Chrome()\n",
    "driver.get(url='http://www.baidu.com')\n",
    "set_node=driver.find_element_by_xpath('//*[@id=\"s-usersetting-top\"]')\n",
    "ActionChains(driver).move_to_element(to_element=set_node).perform()\n",
    "driver.find_element_by_link_text('高级搜索').click()"
   ]
  },
  {
   "cell_type": "code",
   "execution_count": 1,
   "metadata": {},
   "outputs": [
    {
     "data": {
      "text/plain": [
       "'\\n假如点击新开了一个网页是两个窗口的话\\n\\n切换：\\n\\nli = self.driver.window_handles\\nself.driver.switch_to.window(li[1])\\n\\n'"
      ]
     },
     "execution_count": 1,
     "metadata": {},
     "output_type": "execute_result"
    }
   ],
   "source": [
    "\"\"\"\n",
    "假如点击新开了一个网页是两个窗口的话\n",
    "\n",
    "切换：\n",
    "\n",
    "li = self.driver.window_handles\n",
    "self.driver.switch_to.window(li[1])\n",
    "\n",
    "\"\"\""
   ]
  },
  {
   "cell_type": "code",
   "execution_count": 3,
   "metadata": {},
   "outputs": [],
   "source": [
    "\"\"\"\n",
    "现在很多网页都是大网页嵌套小网页，所以，要切换frame\n",
    "\n",
    "\"\"\"\n",
    "from selenium import webdriver\n",
    "\n",
    "driver=webdriver.Chrome()\n",
    "driver.get(url='https://www.douban.com/')\n",
    "\n",
    "# 1、切换子页面\n",
    "iframe_node=driver.find_element_by_xpath('//*[@id=\"anony-reg-new\"]/div/div[1]/iframe')\n",
    "driver.switch_to.frame(iframe_node)  #如果有class就可以直接找class或者id\n",
    "\n",
    "#2、点击密码登录\n",
    "driver.find_element_by_xpath('/html/body/div[1]/div[1]/ul[1]/li[2]').click()\n",
    "\n",
    "driver.find_element_by_xpath('//*[@id=\"username\"]').send_keys(\"1234556\")\n",
    "driver.find_element_by_xpath('//*[@id=\"password\"]').send_keys('1234')\n",
    "driver.find_element_by_xpath('/html/body/div[1]/div[2]/div[1]/div[5]/a').click()\n",
    "\n",
    "\n",
    "\n"
   ]
  },
  {
   "cell_type": "code",
   "execution_count": 4,
   "metadata": {},
   "outputs": [
    {
     "name": "stderr",
     "output_type": "stream",
     "text": [
      "D:\\anaconda\\lib\\site-packages\\ipykernel_launcher.py:11: DeprecationWarning: use driver.switch_to.frame instead\n",
      "  # This is added back by InteractiveShellApp.init_path()\n"
     ]
    }
   ],
   "source": [
    "\"\"\"\n",
    "qq邮箱\n",
    "\"\"\"\n",
    "\n",
    "from selenium import webdriver\n",
    "\n",
    "driver=webdriver.Chrome()\n",
    "driver.get(url='https://mail.qq.com/')\n",
    "\n",
    "# 1、切换iframe\n",
    "driver.switch_to_frame('login_frame')\n",
    "\n",
    "driver.find_element_by_xpath('//*[@id=\"switcher_plogin\"]').click()\n",
    "\n",
    "driver.find_element_by_id('u').send_keys('1328436469')\n",
    "driver.find_element_by_id('p').send_keys(\"nlperCHEN292!!!\")\n",
    "driver.find_element_by_id('login_button').click()\n",
    "\n"
   ]
  },
  {
   "cell_type": "code",
   "execution_count": 8,
   "metadata": {},
   "outputs": [
    {
     "name": "stderr",
     "output_type": "stream",
     "text": [
      "D:\\anaconda\\lib\\site-packages\\ipykernel_launcher.py:10: DeprecationWarning: use driver.switch_to.frame instead\n",
      "  # Remove the CWD from sys.path while we load stuff.\n"
     ]
    },
    {
     "name": "stdout",
     "output_type": "stream",
     "text": [
      "{'rank': '1', 'name': '征途 - (《了不起的征途》主题曲)', 'time': '04:23', 'star': '周深'}\n",
      "{'rank': '2', 'name': '花泥', 'time': '04:07', 'star': '好妹妹'}\n",
      "{'rank': '3', 'name': '女孩 - (电视剧《长不大的爸爸》片头曲)', 'time': '05:06', 'star': '韦礼安'}\n",
      "{'rank': '4', 'name': '冯京与马凉', 'time': '04:01', 'star': 'Tank'}\n",
      "{'rank': '5', 'name': '告诉你我多想你 - (6pm)', 'time': '03:21', 'star': '王子明/杀不死Subs'}\n",
      "{'rank': '6', 'name': '爱上未来的你', 'time': '03:19', 'star': '周星星'}\n",
      "{'rank': '7', 'name': '回避型恋爱人格', 'time': '03:18', 'star': 'Superluckyqi/Aioz'}\n",
      "{'rank': '8', 'name': 'Wait\\xa0a\\xa0Minute!', 'time': '03:16', 'star': 'WILLOW'}\n",
      "{'rank': '9', 'name': '一不小心爱上你 - (抖音热搜版)', 'time': '03:10', 'star': '高睿'}\n",
      "{'rank': '10', 'name': '我的眼泪\\xa0你的战利品', 'time': '00:37', 'star': '于冬然'}\n",
      "{'rank': '11', 'name': '失语病', 'time': '04:09', 'star': '杜宣达'}\n",
      "{'rank': '12', 'name': 'Memories', 'time': '04:08', 'star': 'Conan Gray'}\n",
      "{'rank': '13', 'name': '欧若拉', 'time': '04:21', 'star': '张韶涵'}\n",
      "{'rank': '14', 'name': '我好像变了', 'time': '03:22', 'star': '永彬Ryan.B'}\n",
      "{'rank': '15', 'name': '像风路过', 'time': '04:08', 'star': '钟晓京'}\n",
      "{'rank': '16', 'name': '当你孤单你会想起谁', 'time': '03:11', 'star': '欧得洋'}\n",
      "{'rank': '17', 'name': '满爱', 'time': '04:13', 'star': '王珏楠'}\n",
      "{'rank': '18', 'name': 'Overseas\\xa0Freestyle\\xa0(Prod.\\xa0By\\xa0Nilson\\xa0Edgardo\\xa0On\\xa0Da\\xa0Track)', 'time': '02:58', 'star': '马思唯/YOUNG13DBABY'}\n",
      "{'rank': '19', 'name': '芙蓉花', 'time': '03:47', 'star': '施鑫文月/PO8'}\n",
      "{'rank': '20', 'name': 'A\\xa0Grand\\xa0Adventure', 'time': '02:57', 'star': '塞壬唱片-MSR/Adam Gubman'}\n",
      "{'rank': '21', 'name': '你也没有错', 'time': '03:38', 'star': '陳梦嘉'}\n",
      "{'rank': '22', 'name': '勇气', 'time': '03:59', 'star': '梁静茹'}\n",
      "{'rank': '23', 'name': '老伙记', 'time': '03:47', 'star': '侧田/Eric Kwok'}\n",
      "{'rank': '24', 'name': '落日\\xa0晚霞和你', 'time': '03:04', 'star': '奕南/王海颖'}\n",
      "{'rank': '25', 'name': '青春赋', 'time': '04:33', 'star': '刘雨昕XIN'}\n",
      "{'rank': '26', 'name': '装蒜', 'time': '02:55', 'star': '黄旭/扬布拉德'}\n",
      "{'rank': '27', 'name': '平行线', 'time': '03:02', 'star': '沙一汀EL'}\n",
      "{'rank': '28', 'name': 'Never\\xa0Love\\xa0Again', 'time': '02:57', 'star': 'Eminem'}\n",
      "{'rank': '29', 'name': 'Numb\\xa0Little\\xa0Bug', 'time': '02:49', 'star': 'Em Beihold'}\n",
      "{'rank': '30', 'name': '梦醒', 'time': '03:29', 'star': 'handsome lau/HYPEEZY/冯泳'}\n",
      "{'rank': '31', 'name': '春雪采耳', 'time': '04:02', 'star': '施鑫文月/小老虎'}\n",
      "{'rank': '32', 'name': 'A计划', 'time': '02:26', 'star': '小蓝背心'}\n",
      "{'rank': '33', 'name': 'カタオモイ - (单相思)', 'time': '03:27', 'star': 'Aimer'}\n",
      "{'rank': '34', 'name': '元カレです - (Motokare\\xa0Desu)', 'time': '03:47', 'star': 'AKB48'}\n",
      "{'rank': '35', 'name': '够爱', 'time': '02:09', 'star': '苏星婕'}\n",
      "{'rank': '36', 'name': '再见', 'time': '03:26', 'star': 'G.E.M.邓紫棋'}\n",
      "{'rank': '37', 'name': '如果的事', 'time': '03:48', 'star': '范玮琪/张韶涵'}\n",
      "{'rank': '38', 'name': 'Shallow - (电影《一个明星的诞生》主题曲)', 'time': '03:35', 'star': 'Lady Gaga/Bradley Cooper'}\n",
      "{'rank': '39', 'name': '今年一定带你去看海', 'time': '05:28', 'star': 'Peace Hotel(和平饭店)'}\n",
      "{'rank': '40', 'name': \"It\\xa0Isn't\\xa0Me\\xa0(with\\xa0KSHMR)\", 'time': '03:36', 'star': '袁娅维TIA RAY/22Bullets/KSHMR'}\n",
      "{'rank': '41', 'name': '仙儿', 'time': '05:04', 'star': '二手玫瑰'}\n",
      "{'rank': '42', 'name': '彩虹天堂', 'time': '05:03', 'star': '刘畊宏'}\n",
      "{'rank': '43', 'name': '空城\\xa0(2022全体免抑版)', 'time': '05:38', 'star': '杨坤'}\n",
      "{'rank': '44', 'name': '平凡之路\\xa0(Live)', 'time': '05:04', 'star': '朴树'}\n",
      "{'rank': '45', 'name': '愈梦', 'time': '03:14', 'star': '丫蛋蛋'}\n",
      "{'rank': '46', 'name': 'Esta\\xa0Noche', 'time': '02:15', 'star': 'Mariana BO'}\n",
      "{'rank': '47', 'name': 'Sanctuary', 'time': '02:38', 'star': 'Dropgun/BassRox'}\n",
      "{'rank': '48', 'name': '原来如此', 'time': '03:18', 'star': '翁梓铭'}\n",
      "{'rank': '49', 'name': 'SOS', 'time': '02:37', 'star': 'Avicii/Aloe Blacc'}\n",
      "{'rank': '50', 'name': 'めんどくさい', 'time': '03:08', 'star': '中島美嘉'}\n",
      "{'rank': '51', 'name': 'Wahran', 'time': '03:51', 'star': 'RANDALL'}\n",
      "{'rank': '52', 'name': 'Wait\\xa0a\\xa0Minute!', 'time': '03:16', 'star': 'WILLOW'}\n",
      "{'rank': '53', 'name': '如何爱他像你', 'time': '03:48', 'star': '王贰浪'}\n",
      "{'rank': '54', 'name': 'Wait\\xa0a\\xa0Minute!', 'time': '03:16', 'star': 'WILLOW'}\n",
      "{'rank': '55', 'name': 'Lights\\xa0Go\\xa0Out\\xa0(feat.\\xa0RBZ)', 'time': '03:00', 'star': 'IZKO/Mangoo/Dawty Music /RBZ'}\n",
      "{'rank': '56', 'name': '平凡之路\\xa0(Live)', 'time': '04:04', 'star': '朴树'}\n",
      "{'rank': '57', 'name': '热铁皮房顶的夏天\\xa0(Live)', 'time': '03:33', 'star': '王赫野'}\n",
      "{'rank': '58', 'name': 'Always\\xa0Remember\\xa0Us\\xa0This\\xa0Way', 'time': '03:30', 'star': 'Lady Gaga'}\n",
      "{'rank': '59', 'name': 'Ininna\\xa0Tora', 'time': '03:24', 'star': 'Timmy Trumpet/KSHMR/Mildenhaus'}\n",
      "{'rank': '60', 'name': 'Auld\\xa0Lang\\xa0Syne', 'time': '00:58', 'star': 'Julia Wu'}\n",
      "{'rank': '61', 'name': '词不达意', 'time': '04:26', 'star': '林忆莲'}\n",
      "{'rank': '62', 'name': 'N8PM', 'time': '01:56', 'star': '玮'}\n",
      "{'rank': '63', 'name': 'Stuck\\xa0In\\xa0Love', 'time': '03:22', 'star': 'Ra Costelloe'}\n",
      "{'rank': '64', 'name': 'Letters', 'time': '03:01', 'star': 'Maximillian'}\n",
      "{'rank': '65', 'name': 'Without\\xa0You', 'time': '03:01', 'star': 'Avicii/Sandro Cavazza'}\n",
      "{'rank': '66', 'name': '有些回忆像风', 'time': '03:33', 'star': '三块木头'}\n",
      "{'rank': '67', 'name': 'Exile', 'time': '04:25', 'star': 'Josh Rabenold'}\n",
      "{'rank': '68', 'name': '深呼吸 - (《爱在他乡》片头曲)', 'time': '04:32', 'star': '范晓萱'}\n",
      "{'rank': '69', 'name': 'Love\\xa0You\\xa0Still\\xa0(abcdefu\\xa0romantic\\xa0version)', 'time': '02:30', 'star': 'Tyler Shaw'}\n",
      "{'rank': '70', 'name': '伪善者', 'time': '03:40', 'star': '金渔'}\n",
      "{'rank': '71', 'name': 'Stay\\xa0The\\xa0Night', 'time': '02:46', 'star': 'Just Kiddin/Camden Cox'}\n",
      "{'rank': '72', 'name': '夜夜夜夜•未央（三星Galaxy\\xa0S22系列\\xa0合作曲）', 'time': '04:57', 'star': '齐秦'}\n",
      "{'rank': '73', 'name': 'Wake\\xa0Me\\xa0Up', 'time': '04:09', 'star': 'Avicii/Aloe Blacc'}\n",
      "{'rank': '74', 'name': 'Boombox', 'time': '02:09', 'star': 'B3nte/B3VA'}\n",
      "{'rank': '75', 'name': 'Lion\\xa0Heart\\xa0(feat.\\xa0Jeremy\\xa0Oceans\\xa0&\\xa0KARRA)', 'time': '03:06', 'star': 'KSHMR/Divine/Lit Killah/Jeremy Oceans/Karra'}\n",
      "{'rank': '76', 'name': '末日后', 'time': '03:19', 'star': '施鑫文月'}\n",
      "{'rank': '77', 'name': '月亮爱过日落', 'time': '02:37', 'star': 'yihuik苡慧'}\n",
      "{'rank': '78', 'name': '形容', 'time': '03:45', 'star': '沈以诚'}\n",
      "{'rank': '79', 'name': 'River\\xa0Flows\\xa0In\\xa0You', 'time': '03:18', 'star': 'Martin Ermen'}\n",
      "{'rank': '80', 'name': '爱是', 'time': '04:06', 'star': 'Schoolgirl byebye'}\n",
      "{'rank': '81', 'name': '最佳损友', 'time': '03:53', 'star': '陈奕迅'}\n",
      "{'rank': '82', 'name': \"I'll\\xa0Never\\xa0Love\\xa0Again\\xa0(Extended\\xa0Version)\", 'time': '05:28', 'star': 'Lady Gaga'}\n",
      "{'rank': '83', 'name': '听说爱情回来过(Live)', 'time': '03:14', 'star': '杨宗纬'}\n",
      "{'rank': '84', 'name': '配不上你', 'time': '05:14', 'star': 'Fine乐团'}\n",
      "{'rank': '85', 'name': 'I\\xa0Want\\xa0It\\xa0That\\xa0Way', 'time': '03:35', 'star': 'Backstreet Boys'}\n",
      "{'rank': '86', 'name': 'Sahara', 'time': '02:51', 'star': 'Hensonn'}\n",
      "{'rank': '87', 'name': '香水百合', 'time': '02:57', 'star': '张韶涵'}\n",
      "{'rank': '88', 'name': '约会在星期天晚上', 'time': '03:38', 'star': '莫非定律MoreFeel'}\n",
      "{'rank': '89', 'name': 'Kryptonite\\xa0(feat.\\xa0Karra)', 'time': '03:16', 'star': 'The MVI/Karra'}\n",
      "{'rank': '90', 'name': 'Levels\\xa0(Radio\\xa0Edit)', 'time': '03:19', 'star': 'Avicii'}\n",
      "{'rank': '91', 'name': 'bliss', 'time': '03:30', 'star': 'iogi'}\n",
      "{'rank': '92', 'name': 'Keep\\xa0Your\\xa0Head\\xa0Up\\xa0Princess', 'time': '03:18', 'star': 'Anson Seabra'}\n",
      "{'rank': '93', 'name': '你让星星发亮', 'time': '00:58', 'star': '高愷蔚'}\n",
      "{'rank': '94', 'name': '谁又真的代表正义', 'time': '03:30', 'star': 'Mc光光'}\n",
      "{'rank': '95', 'name': '叶子', 'time': '03:50', 'star': '缩肥鸭'}\n",
      "{'rank': '96', 'name': 'Peaches\\xa0(Acoustic\\xa0Ver.)', 'time': '02:31', 'star': 'Harryan Yoonsoan'}\n",
      "{'rank': '97', 'name': '潜', 'time': '02:17', 'star': '施鑫文月'}\n",
      "{'rank': '98', 'name': '不管发生什么,\\xa0别放开我的手', 'time': '03:38', 'star': '高愷蔚/赵心蕾'}\n",
      "{'rank': '99', 'name': '共勉', 'time': '04:51', 'star': '南风'}\n",
      "{'rank': '100', 'name': 'Everybody\\xa0Dies\\xa0In\\xa0Their\\xa0Nightmares', 'time': '01:35', 'star': 'XXXTENTACION'}\n"
     ]
    }
   ],
   "source": [
    "\"\"\"\n",
    "抓取网易云音乐排行榜\n",
    "\"\"\"\n",
    "from selenium import webdriver\n",
    "\n",
    "driver=webdriver.Chrome()\n",
    "driver.get(url='https://music.163.com/#/discover/toplist')\n",
    "\n",
    "# 切换子页面\n",
    "driver.switch_to_frame('g_iframe')\n",
    "\n",
    "tr_list=driver.find_elements_by_xpath('//table/tbody/tr')\n",
    "for tr in tr_list:\n",
    "    item={}\n",
    "    item[\"rank\"]=tr.find_element_by_xpath('.//span[@class=\"num\"]').text.strip()\n",
    "    item[\"name\"]=tr.find_element_by_xpath('.//span[@class=\"txt\"]/a/b').get_attribute('title').replace('\\xa0',\" \")#把\\xa0替换成空格\n",
    "    item[\"time\"]=tr.find_element_by_xpath('.//span[@class=\"u-dur \"]').text.strip()\n",
    "    item[\"star\"]=tr.find_element_by_xpath('.//div[@class=\"text\"]/span').get_attribute('title')#获取属性值\n",
    "    \n",
    "    print(item)\n",
    "\n"
   ]
  }
 ],
 "metadata": {
  "interpreter": {
   "hash": "cc5f70855ac006f3de45a3cc3b9e7d8d53845e50458809cb162b0174266dec97"
  },
  "kernelspec": {
   "display_name": "Python 3.7.3 ('base')",
   "language": "python",
   "name": "python3"
  },
  "language_info": {
   "codemirror_mode": {
    "name": "ipython",
    "version": 3
   },
   "file_extension": ".py",
   "mimetype": "text/x-python",
   "name": "python",
   "nbconvert_exporter": "python",
   "pygments_lexer": "ipython3",
   "version": "3.7.3"
  },
  "orig_nbformat": 4
 },
 "nbformat": 4,
 "nbformat_minor": 2
}
